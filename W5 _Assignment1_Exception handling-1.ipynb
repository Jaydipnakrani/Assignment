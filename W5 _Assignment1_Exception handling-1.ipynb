{
 "cells": [
  {
   "cell_type": "markdown",
   "id": "58a59b7a-4160-4e48-911d-0bc51aa0acd5",
   "metadata": {},
   "source": [
    "#### 1.what is an Exception in python? Write the difference between Exception and syntax error."
   ]
  },
  {
   "cell_type": "markdown",
   "id": "0c1f7ab9-457e-4ce4-873a-5fe5799136d4",
   "metadata": {},
   "source": [
    "->exception is an event that occurs during the execution of a program, disrupting the normal flow of the program's instructions. When an exceptional situation arises, Python creates an exception object, which contains information about the error, and then the program flow is transferred to the nearest exception-handling code block that can handle the specific type of exception. If the exception is not handled, the program will terminate, displaying an error message and a traceback."
   ]
  },
  {
   "cell_type": "markdown",
   "id": "4af53181-9ac9-4398-b0e9-bd7a96a156eb",
   "metadata": {},
   "source": [
    "1.Exception:\n",
    "\n",
    "->An exception is a runtime error that occurs when the program is executing.\n",
    "->It typically arises due to logical errors, unexpected conditions, or external factors.\n",
    "->Examples of exceptions include ZeroDivisionError (dividing by zero), ValueError (inappropriate input type), FileNotFoundError (when a file doesn't exist), etc.\n",
    "->Exceptions can be caught and handled using try-except blocks to prevent the program from terminating abruptly."
   ]
  },
  {
   "cell_type": "code",
   "execution_count": 1,
   "id": "022bc004-be5e-4324-82d8-f88c06fb1c92",
   "metadata": {},
   "outputs": [
    {
     "name": "stdout",
     "output_type": "stream",
     "text": [
      "Cannot divide by zero\n"
     ]
    }
   ],
   "source": [
    "try:\n",
    "    result = 10 / 0\n",
    "except ZeroDivisionError as e:\n",
    "    print(\"Cannot divide by zero\")"
   ]
  },
  {
   "cell_type": "markdown",
   "id": "8c583104-4007-43bc-b745-38cd7cfd7f24",
   "metadata": {},
   "source": [
    "2.Syntax Error:\n",
    "\n",
    "->A syntax error occurs when the Python interpreter encounters invalid code during the parsing phase before the program starts executing.\n",
    "->It is caused by issues like misspelled keywords, missing colons, mismatched parentheses, etc.\n",
    "->Syntax errors prevent the program from running at all, and you need to fix them before running the code."
   ]
  },
  {
   "cell_type": "code",
   "execution_count": 2,
   "id": "be7cebbf-f72f-4289-ba0c-c57fe2d285c4",
   "metadata": {},
   "outputs": [
    {
     "ename": "SyntaxError",
     "evalue": "incomplete input (3351714144.py, line 1)",
     "output_type": "error",
     "traceback": [
      "\u001b[0;36m  Cell \u001b[0;32mIn[2], line 1\u001b[0;36m\u001b[0m\n\u001b[0;31m    print(\"Hello, world!\"\u001b[0m\n\u001b[0m                         ^\u001b[0m\n\u001b[0;31mSyntaxError\u001b[0m\u001b[0;31m:\u001b[0m incomplete input\n"
     ]
    }
   ],
   "source": [
    "print(\"Hello, world!\""
   ]
  },
  {
   "cell_type": "markdown",
   "id": "111cc4cd-2bf7-4974-b380-25e8fa1f5217",
   "metadata": {},
   "source": [
    "#### 2.what happens when an Exception is not handled? Explain with an example."
   ]
  },
  {
   "cell_type": "markdown",
   "id": "a2835320-6b2e-46c6-98d2-05ee051b9066",
   "metadata": {},
   "source": [
    "->When an exception is not handled in Python, it results in the program's termination and an error message called a traceback. The traceback provides information about the exception type, the line of code where the exception occurred, and the call stack, showing the sequence of function calls leading to the error."
   ]
  },
  {
   "cell_type": "code",
   "execution_count": 5,
   "id": "8805f629-5857-4e42-a27f-45c4dd10ce5f",
   "metadata": {},
   "outputs": [
    {
     "ename": "ZeroDivisionError",
     "evalue": "division by zero",
     "output_type": "error",
     "traceback": [
      "\u001b[0;31m---------------------------------------------------------------------------\u001b[0m",
      "\u001b[0;31mZeroDivisionError\u001b[0m                         Traceback (most recent call last)",
      "Cell \u001b[0;32mIn[5], line 3\u001b[0m\n\u001b[1;32m      1\u001b[0m \u001b[38;5;28;01mtry\u001b[39;00m:\n\u001b[0;32m----> 3\u001b[0m     a\u001b[38;5;241m=\u001b[39m\u001b[38;5;241;43m10\u001b[39;49m\u001b[38;5;241;43m/\u001b[39;49m\u001b[38;5;241;43m0\u001b[39;49m\n\u001b[1;32m      4\u001b[0m \u001b[38;5;28;01mexcept\u001b[39;00m \u001b[38;5;167;01mValueError\u001b[39;00m \u001b[38;5;28;01mas\u001b[39;00m e:  \n\u001b[1;32m      5\u001b[0m     \u001b[38;5;28mprint\u001b[39m(e)\n",
      "\u001b[0;31mZeroDivisionError\u001b[0m: division by zero"
     ]
    }
   ],
   "source": [
    "try: \n",
    "    a=10/0\n",
    "except ValueError as e:  \n",
    "    print(e)"
   ]
  },
  {
   "cell_type": "markdown",
   "id": "1f18ae09-dca5-40b3-b898-75f069a15e4a",
   "metadata": {},
   "source": [
    "#### 3.which python statements  are used to catch and handle exceptions?Explain with an example."
   ]
  },
  {
   "cell_type": "markdown",
   "id": "b3dd78c0-e998-49f7-bf31-01457112b4d9",
   "metadata": {},
   "source": [
    "->try, except, and finally blocks are used to catch and handle exceptions."
   ]
  },
  {
   "cell_type": "code",
   "execution_count": 10,
   "id": "763bb560-7505-4b63-b66b-f4968884f14b",
   "metadata": {},
   "outputs": [
    {
     "name": "stdout",
     "output_type": "stream",
     "text": [
      "division by zero\n",
      "Finally block executed.\n"
     ]
    }
   ],
   "source": [
    "try:\n",
    "    result = 12/ 0\n",
    "except ZeroDivisionError as e:\n",
    "    print(e)\n",
    "finally:\n",
    "    print(\"Finally block executed.\")"
   ]
  },
  {
   "cell_type": "markdown",
   "id": "daba568d-4e07-470e-8d7f-67b292364060",
   "metadata": {},
   "source": [
    "#### 4.Explain with an Example:  a.try and else b.finally c.raise"
   ]
  },
  {
   "cell_type": "code",
   "execution_count": 11,
   "id": "7e76708e-2e0e-48fe-9ec7-25f15acda514",
   "metadata": {},
   "outputs": [
    {
     "name": "stdout",
     "output_type": "stream",
     "text": [
      "this is my except block [Errno 2] No such file or directory: 'test4.txt'\n"
     ]
    }
   ],
   "source": [
    "#a.try and else\n",
    "try:  \n",
    "    f = open(\"test4.txt\",'r')  \n",
    "    f.write(\"write into my file\")\n",
    "    f.close() \n",
    "except Exception as e:   \n",
    "    print('this is my except block',e)\n",
    "else:  \n",
    "    f.close()\n",
    "    print(\"this will be executed once your try will execute\")"
   ]
  },
  {
   "cell_type": "code",
   "execution_count": 13,
   "id": "da4dd151-e79d-495c-8d20-73752c1aadd9",
   "metadata": {},
   "outputs": [
    {
     "name": "stdout",
     "output_type": "stream",
     "text": [
      "finally will execute itself in my any situation\n"
     ]
    }
   ],
   "source": [
    "#b.finally\n",
    "try:  \n",
    "    f = open(\"text.txt\",'w') \n",
    "    f.write(\"writesomething\")\n",
    "finally: \n",
    "    print(\"finally will execute itself in my any situation\")"
   ]
  },
  {
   "cell_type": "code",
   "execution_count": 14,
   "id": "c749460b-38b2-40cf-8e0b-ed7f126414da",
   "metadata": {},
   "outputs": [
    {
     "name": "stdin",
     "output_type": "stream",
     "text": [
      "enter your age -464\n"
     ]
    },
    {
     "name": "stdout",
     "output_type": "stream",
     "text": [
      "entered age is negative\n"
     ]
    }
   ],
   "source": [
    "#c.raise\n",
    "class validateage(Exception):\n",
    "    \n",
    "    def __init__(self,msg):\n",
    "        self.msg = msg\n",
    "        \n",
    "def validaetage(age):\n",
    "    if age < 0:  \n",
    "        raise validateage(\"entered age is negative\") \n",
    "        \n",
    "    elif age > 200:\n",
    "        raise validateage(\"entered age is very very high\")\n",
    "    else:\n",
    "        print(\"age is valid\")\n",
    "try:\n",
    "    age = int(input('enter your age')) \n",
    "    validaetage(age)   \n",
    "except validateage as e:\n",
    "    print(e)   "
   ]
  },
  {
   "cell_type": "markdown",
   "id": "4fff118a-3d61-4cb3-904e-25f83381e614",
   "metadata": {},
   "source": [
    "#### 5.what are custom Exceptions in python?why do we need custom Exceptions?Explain with an Example."
   ]
  },
  {
   "cell_type": "markdown",
   "id": "d7cfcb86-682f-4ff2-815d-326268f54ffa",
   "metadata": {},
   "source": [
    "->Custom exceptions in Python are user-defined exception classes that allow developers to create their own specific exception types. By defining custom exceptions, you can provide more meaningful and context-specific error messages for your application, making it easier to identify and handle different error scenarios."
   ]
  },
  {
   "cell_type": "markdown",
   "id": "2bf54c5c-311c-4a1c-8cf7-4582bb3cefce",
   "metadata": {},
   "source": [
    "->clarity,Modularity,Debugging,Documentation "
   ]
  },
  {
   "cell_type": "code",
   "execution_count": 18,
   "id": "c4627533-9e6b-4f2d-8fcd-02590516b077",
   "metadata": {},
   "outputs": [
    {
     "name": "stdin",
     "output_type": "stream",
     "text": [
      "enter your value 5\n"
     ]
    },
    {
     "name": "stdout",
     "output_type": "stream",
     "text": [
      "value is valid\n"
     ]
    }
   ],
   "source": [
    "class CustomError(Exception):\n",
    "    def __init__(self, message):\n",
    "        self.message = message\n",
    "\n",
    "def custom_function(value):\n",
    "    if value < 0:\n",
    "        raise CustomError(\"Value must be non-negative.\")\n",
    "    else:\n",
    "        print(\"value is valid\")\n",
    "    return value * 2\n",
    "\n",
    "try:\n",
    "    value = int(input(\"enter your value\"))\n",
    "    custom_function(value)\n",
    "except CustomError as e:\n",
    "    print(e)"
   ]
  },
  {
   "cell_type": "markdown",
   "id": "9799a5c4-42b8-4fc4-be1e-66c89ca88bee",
   "metadata": {},
   "source": [
    "#### 6.create  a custom exception class.use this  class to handle an exception."
   ]
  },
  {
   "cell_type": "code",
   "execution_count": 20,
   "id": "b39f5120-3815-4f7d-ab59-033a67baee6c",
   "metadata": {},
   "outputs": [
    {
     "name": "stdout",
     "output_type": "stream",
     "text": [
      "Password must be at least 8 characters long.\n",
      "Password is strong.\n"
     ]
    }
   ],
   "source": [
    "\n",
    "class InvalidPasswordError(Exception):\n",
    "    def __init__(self, password):\n",
    "        self.password = password\n",
    "\n",
    "def check_password_strength(password):\n",
    "    if len(password) < 8:\n",
    "        raise InvalidPasswordError(\"Password must be at least 8 characters long.\")\n",
    "    if not any(char.isdigit() for char in password):\n",
    "        raise InvalidPasswordError(\"Password must contain at least one digit.\")\n",
    "    if not any(char.isalpha() for char in password):\n",
    "        raise InvalidPasswordError(\"Password must contain at least one letter.\")\n",
    "\n",
    "try:\n",
    "    user_password = \"weak\"\n",
    "    check_password_strength(user_password)\n",
    "    print(\"Password is strong.\")\n",
    "except InvalidPasswordError as e:\n",
    "    print(e)\n",
    "\n",
    "try:\n",
    "    user_password = \"strongpassword123\"\n",
    "    check_password_strength(user_password)\n",
    "    print(\"Password is strong.\")\n",
    "except InvalidPasswordError as e:\n",
    "    print(e)\n"
   ]
  },
  {
   "cell_type": "code",
   "execution_count": null,
   "id": "57fb0120-72ce-44b6-890c-bf255b4bd454",
   "metadata": {},
   "outputs": [],
   "source": []
  }
 ],
 "metadata": {
  "kernelspec": {
   "display_name": "Python 3 (ipykernel)",
   "language": "python",
   "name": "python3"
  },
  "language_info": {
   "codemirror_mode": {
    "name": "ipython",
    "version": 3
   },
   "file_extension": ".py",
   "mimetype": "text/x-python",
   "name": "python",
   "nbconvert_exporter": "python",
   "pygments_lexer": "ipython3",
   "version": "3.10.8"
  }
 },
 "nbformat": 4,
 "nbformat_minor": 5
}
