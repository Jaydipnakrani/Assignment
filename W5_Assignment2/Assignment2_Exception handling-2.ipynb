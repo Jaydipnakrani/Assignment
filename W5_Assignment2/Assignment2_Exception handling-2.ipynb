{
 "cells": [
  {
   "cell_type": "markdown",
   "id": "7d7002a1-678f-432e-bd5e-dfa856e61f57",
   "metadata": {},
   "source": [
    "#### 1.Explain why we have to use the Exception class while creating a Custom Exception."
   ]
  },
  {
   "cell_type": "markdown",
   "id": "8959d1bd-b24b-43be-9fc6-899fa59148d2",
   "metadata": {},
   "source": [
    "->The Exception class is used as the base class for custom exceptions in Python because it provides a standard way of representing and handling errors that occur in a program. When you create a custom exception class, it should inherit from the Exception class in order to be recognized as an exception by the Python runtime.\n",
    "\n",
    "->By inheriting from the Exception class, your custom exception class automatically gets all the properties and methods of the Exception class, making it easier to use and handle in your code. For example, you can raise your custom exception using the raise statement, and it will be caught by a try-except block just like any other standard exception.\n",
    "\n",
    "->Additionally, inheriting from the Exception class also makes it possible for other parts of your code to catch your custom exception specifically, if necessary. This allows you to create more specific error handling logic for your custom exceptions, rather than relying on a catch-all approach for all exceptions.\n",
    "In summary, using the Exception class as the base class for custom exceptions provides a standard way of representing and handling errors in Python, making it easier to integrate custom exceptions into your code and handle them appropriately."
   ]
  },
  {
   "cell_type": "code",
   "execution_count": 1,
   "id": "682ff0a3-2614-4419-ab6c-6bcd079df863",
   "metadata": {},
   "outputs": [],
   "source": [
    "import logging\n",
    "logging.basicConfig(filename='Assignment2.log',level=logging.DEBUG,format= '%(asctime)s - %(name)s - %(levelname)s - %(message)s')"
   ]
  },
  {
   "cell_type": "code",
   "execution_count": 2,
   "id": "54e85d42-0815-4bd0-a3e3-dd46a7a60a45",
   "metadata": {},
   "outputs": [],
   "source": [
    "class TransactionLimitExceeded(Exception):\n",
    "    def __init__(self, message, transaction_amount, limit):\n",
    "        self.message = message\n",
    "        self.transaction_amount = transaction_amount\n",
    "        self.limit = limit\n",
    "        super().__init__(self.message)"
   ]
  },
  {
   "cell_type": "code",
   "execution_count": 3,
   "id": "93722db9-659a-4729-b21e-6f477d6d3e24",
   "metadata": {},
   "outputs": [],
   "source": [
    "def process_transaction(amount):\n",
    "    \"\"\"\n",
    "    This Function Processes the amount then validates the transaction\n",
    "    \"\"\"\n",
    "    logging.info('This is starting of process_transaction definition.')\n",
    "    try:\n",
    "        limit = 1000\n",
    "        if amount > limit:\n",
    "            # If Amount is greater than limit the function will raise error\n",
    "            logging.error('Exception Occured Transaction amount Exceeded the limit')       \n",
    "            raise TransactionLimitExceeded(\"Transaction limit exceeded\", amount, limit)\n",
    "        else:\n",
    "            logging.info(f'Transaction is valid with amount : {amount}')\n",
    "            print('Valid Transaction Amount : ',amount)\n",
    "        logging.info('Try Block executed')\n",
    "    \n",
    "    except TransactionLimitExceeded as e:\n",
    "        logging.info(f'Transaction of Amount : {amount} Exceeded the limit {limit}')\n",
    "        logging.exception(f'Transaction Limit Exceeded , Exception : {e}')\n",
    "        print('Transaction Limit Exceeded , Handled Exception :',e)"
   ]
  },
  {
   "cell_type": "code",
   "execution_count": 4,
   "id": "00ef99df-3fb2-4ab2-a18f-d720c5045d64",
   "metadata": {},
   "outputs": [
    {
     "name": "stdout",
     "output_type": "stream",
     "text": [
      "Valid Transaction Amount :  400\n"
     ]
    }
   ],
   "source": [
    "process_transaction(400)"
   ]
  },
  {
   "cell_type": "code",
   "execution_count": 5,
   "id": "8b28715b-acbc-4c56-8e9f-198d94e66cb3",
   "metadata": {},
   "outputs": [
    {
     "name": "stdout",
     "output_type": "stream",
     "text": [
      "Valid Transaction Amount :  1000\n"
     ]
    }
   ],
   "source": [
    "process_transaction(1000)"
   ]
  },
  {
   "cell_type": "code",
   "execution_count": 6,
   "id": "160fd63a-32f4-4060-9e29-029fccb67a78",
   "metadata": {},
   "outputs": [
    {
     "name": "stdout",
     "output_type": "stream",
     "text": [
      "Transaction Limit Exceeded , Handled Exception : Transaction limit exceeded\n"
     ]
    }
   ],
   "source": [
    "process_transaction(1500)"
   ]
  },
  {
   "cell_type": "markdown",
   "id": "7c59221c-979e-4894-896b-f26f68bbd878",
   "metadata": {},
   "source": [
    "#### 2.Write a python program to print Python Exception Hierarchy."
   ]
  },
  {
   "cell_type": "code",
   "execution_count": 7,
   "id": "47222f1c-379d-480c-8ea1-1d9087a45a47",
   "metadata": {},
   "outputs": [
    {
     "name": "stdout",
     "output_type": "stream",
     "text": [
      "Exception\n",
      "  TypeError\n",
      "    FloatOperation\n",
      "    MultipartConversionError\n",
      "  StopAsyncIteration\n",
      "  StopIteration\n",
      "  ImportError\n",
      "    ModuleNotFoundError\n",
      "    ZipImportError\n",
      "  OSError\n",
      "    ConnectionError\n",
      "      BrokenPipeError\n",
      "      ConnectionAbortedError\n",
      "      ConnectionRefusedError\n",
      "      ConnectionResetError\n",
      "        RemoteDisconnected\n",
      "    BlockingIOError\n",
      "    ChildProcessError\n",
      "    FileExistsError\n",
      "    FileNotFoundError\n",
      "    IsADirectoryError\n",
      "    NotADirectoryError\n",
      "    InterruptedError\n",
      "      InterruptedSystemCall\n",
      "    PermissionError\n",
      "    ProcessLookupError\n",
      "    TimeoutError\n",
      "    UnsupportedOperation\n",
      "    itimer_error\n",
      "    herror\n",
      "    gaierror\n",
      "    SSLError\n",
      "      SSLCertVerificationError\n",
      "      SSLZeroReturnError\n",
      "      SSLWantWriteError\n",
      "      SSLWantReadError\n",
      "      SSLSyscallError\n",
      "      SSLEOFError\n",
      "    Error\n",
      "      SameFileError\n",
      "    SpecialFileError\n",
      "    ExecError\n",
      "    ReadError\n",
      "    URLError\n",
      "      HTTPError\n",
      "      ContentTooShortError\n",
      "    BadGzipFile\n",
      "  EOFError\n",
      "    IncompleteReadError\n",
      "  RuntimeError\n",
      "    RecursionError\n",
      "    NotImplementedError\n",
      "      ZMQVersionError\n",
      "      StdinNotImplementedError\n",
      "    _DeadlockError\n",
      "    BrokenBarrierError\n",
      "    BrokenExecutor\n",
      "      BrokenThreadPool\n",
      "    SendfileNotAvailableError\n",
      "    ExtractionError\n",
      "    VariableError\n",
      "  NameError\n",
      "    UnboundLocalError\n",
      "  AttributeError\n",
      "    FrozenInstanceError\n",
      "  SyntaxError\n",
      "    IndentationError\n",
      "      TabError\n",
      "  LookupError\n",
      "    IndexError\n",
      "    KeyError\n",
      "      NoSuchKernel\n",
      "      UnknownBackend\n",
      "    CodecRegistryError\n",
      "  ValueError\n",
      "    UnicodeError\n",
      "      UnicodeEncodeError\n",
      "      UnicodeDecodeError\n",
      "      UnicodeTranslateError\n",
      "    UnsupportedOperation\n",
      "    JSONDecodeError\n",
      "    SSLCertVerificationError\n",
      "    Error\n",
      "    UnsupportedDigestmodError\n",
      "    IllegalMonthError\n",
      "    IllegalWeekdayError\n",
      "    ParserError\n",
      "    ClassNotFound\n",
      "    ClipboardEmpty\n",
      "    MessageDefect\n",
      "      NoBoundaryInMultipartDefect\n",
      "      StartBoundaryNotFoundDefect\n",
      "      CloseBoundaryNotFoundDefect\n",
      "      FirstHeaderLineIsContinuationDefect\n",
      "      MisplacedEnvelopeHeaderDefect\n",
      "      MissingHeaderBodySeparatorDefect\n",
      "      MultipartInvariantViolationDefect\n",
      "      InvalidMultipartContentTransferEncodingDefect\n",
      "      UndecodableBytesDefect\n",
      "      InvalidBase64PaddingDefect\n",
      "      InvalidBase64CharactersDefect\n",
      "      InvalidBase64LengthDefect\n",
      "      HeaderDefect\n",
      "        InvalidHeaderDefect\n",
      "        HeaderMissingRequiredValue\n",
      "        NonPrintableDefect\n",
      "        ObsoleteHeaderDefect\n",
      "        NonASCIILocalPartDefect\n",
      "        InvalidDateDefect\n",
      "    MacroToEdit\n",
      "    InvalidFileException\n",
      "    UnequalIterablesError\n",
      "    InvalidVersion\n",
      "    _InvalidELFFileHeader\n",
      "    InvalidWheelFilename\n",
      "    InvalidSdistFilename\n",
      "    InvalidSpecifier\n",
      "    InvalidMarker\n",
      "    UndefinedComparison\n",
      "    UndefinedEnvironmentName\n",
      "    InvalidRequirement\n",
      "      RequirementParseError\n",
      "    InvalidVersion\n",
      "  AssertionError\n",
      "  ArithmeticError\n",
      "    FloatingPointError\n",
      "    OverflowError\n",
      "    ZeroDivisionError\n",
      "      DivisionByZero\n",
      "      DivisionUndefined\n",
      "    DecimalException\n",
      "      Clamped\n",
      "      Rounded\n",
      "        Underflow\n",
      "        Overflow\n",
      "      Inexact\n",
      "        Underflow\n",
      "        Overflow\n",
      "      Subnormal\n",
      "        Underflow\n",
      "      DivisionByZero\n",
      "      FloatOperation\n",
      "      InvalidOperation\n",
      "        ConversionSyntax\n",
      "        DivisionImpossible\n",
      "        DivisionUndefined\n",
      "        InvalidContext\n",
      "  SystemError\n",
      "    CodecRegistryError\n",
      "  ReferenceError\n",
      "  MemoryError\n",
      "  BufferError\n",
      "  Warning\n",
      "    UserWarning\n",
      "      GetPassWarning\n",
      "      FormatterWarning\n",
      "    EncodingWarning\n",
      "    DeprecationWarning\n",
      "      ProvisionalWarning\n",
      "    PendingDeprecationWarning\n",
      "    SyntaxWarning\n",
      "    RuntimeWarning\n",
      "      ProactorSelectorThreadWarning\n",
      "      UnknownTimezoneWarning\n",
      "      PEP440Warning\n",
      "    FutureWarning\n",
      "      ProvisionalCompleterWarning\n",
      "    ImportWarning\n",
      "    UnicodeWarning\n",
      "    BytesWarning\n",
      "    ResourceWarning\n",
      "    DeprecatedTzFormatWarning\n",
      "    PkgResourcesDeprecationWarning\n",
      "  _OptionError\n",
      "  _Error\n",
      "  error\n",
      "  Verbose\n",
      "  Error\n",
      "  SubprocessError\n",
      "    CalledProcessError\n",
      "    TimeoutExpired\n",
      "  TokenError\n",
      "  StopTokenizing\n",
      "  ClassFoundException\n",
      "  EndOfBlock\n",
      "  TraitError\n",
      "  Error\n",
      "  Error\n",
      "    CancelledError\n",
      "    TimeoutError\n",
      "    InvalidStateError\n",
      "  _GiveupOnSendfile\n",
      "  error\n",
      "  Incomplete\n",
      "  TimeoutError\n",
      "  InvalidStateError\n",
      "  LimitOverrunError\n",
      "  QueueEmpty\n",
      "  QueueFull\n",
      "  Empty\n",
      "  Full\n",
      "  ArgumentError\n",
      "  ZMQBaseError\n",
      "    ZMQError\n",
      "      ContextTerminated\n",
      "      Again\n",
      "      InterruptedSystemCall\n",
      "    ZMQBindError\n",
      "    NotDone\n",
      "  PickleError\n",
      "    PicklingError\n",
      "    UnpicklingError\n",
      "  _Stop\n",
      "  ArgumentError\n",
      "  ArgumentTypeError\n",
      "  ConfigError\n",
      "    ConfigLoaderError\n",
      "      ArgumentError\n",
      "    ConfigFileNotFound\n",
      "  ConfigurableError\n",
      "    MultipleInstanceError\n",
      "  ApplicationError\n",
      "  error\n",
      "  TimeoutError\n",
      "  error\n",
      "  ReturnValueIgnoredError\n",
      "  KeyReuseError\n",
      "  UnknownKeyError\n",
      "  LeakedCallbackError\n",
      "  BadYieldError\n",
      "  ReturnValueIgnoredError\n",
      "  Return\n",
      "  InvalidPortNumber\n",
      "  error\n",
      "  LZMAError\n",
      "  RegistryError\n",
      "  _GiveupOnFastCopy\n",
      "  Error\n",
      "    NoSectionError\n",
      "    DuplicateSectionError\n",
      "    DuplicateOptionError\n",
      "    NoOptionError\n",
      "    InterpolationError\n",
      "      InterpolationMissingOptionError\n",
      "      InterpolationSyntaxError\n",
      "      InterpolationDepthError\n",
      "    ParsingError\n",
      "      MissingSectionHeaderError\n",
      "  NoIPAddresses\n",
      "  BadZipFile\n",
      "  LargeZipFile\n",
      "  BadEntryPoint\n",
      "  NoSuchEntryPoint\n",
      "  DuplicateKernelError\n",
      "  ErrorDuringImport\n",
      "  NotOneValueFound\n",
      "  CannotEval\n",
      "  OptionError\n",
      "  BdbQuit\n",
      "  Restart\n",
      "  ExceptionPexpect\n",
      "    EOF\n",
      "    TIMEOUT\n",
      "  PtyProcessError\n",
      "  FindCmdError\n",
      "  HomeDirError\n",
      "  ProfileDirError\n",
      "  IPythonCoreError\n",
      "    TryNext\n",
      "    UsageError\n",
      "    StdinNotImplementedError\n",
      "  InputRejected\n",
      "  GetoptError\n",
      "  ErrorToken\n",
      "  PrefilterError\n",
      "  AliasError\n",
      "    InvalidAliasError\n",
      "  Error\n",
      "    InterfaceError\n",
      "    DatabaseError\n",
      "      InternalError\n",
      "      OperationalError\n",
      "      ProgrammingError\n",
      "      IntegrityError\n",
      "      DataError\n",
      "      NotSupportedError\n",
      "  Warning\n",
      "  SpaceInInput\n",
      "  DOMException\n",
      "    IndexSizeErr\n",
      "    DomstringSizeErr\n",
      "    HierarchyRequestErr\n",
      "    WrongDocumentErr\n",
      "    InvalidCharacterErr\n",
      "    NoDataAllowedErr\n",
      "    NoModificationAllowedErr\n",
      "    NotFoundErr\n",
      "    NotSupportedErr\n",
      "    InuseAttributeErr\n",
      "    InvalidStateErr\n",
      "    SyntaxErr\n",
      "    InvalidModificationErr\n",
      "    NamespaceErr\n",
      "    InvalidAccessErr\n",
      "    ValidationErr\n",
      "  ValidationError\n",
      "  EditReadOnlyBuffer\n",
      "  _Retry\n",
      "  InvalidLayoutError\n",
      "  HeightIsUnknownError\n",
      "  ParserSyntaxError\n",
      "  InternalParseError\n",
      "  _PositionUpdatingFinished\n",
      "  SimpleGetItemNotFound\n",
      "  UncaughtAttributeError\n",
      "  HasNoContext\n",
      "  ParamIssue\n",
      "  _JediError\n",
      "    InternalError\n",
      "    WrongVersion\n",
      "    RefactoringError\n",
      "  OnErrorLeaf\n",
      "  InvalidPythonEnvironment\n",
      "  MessageError\n",
      "    MessageParseError\n",
      "      HeaderParseError\n",
      "      BoundaryError\n",
      "    MultipartConversionError\n",
      "    CharsetError\n",
      "  Error\n",
      "  HTTPException\n",
      "    NotConnected\n",
      "    InvalidURL\n",
      "    UnknownProtocol\n",
      "    UnknownTransferEncoding\n",
      "    UnimplementedFileMode\n",
      "    IncompleteRead\n",
      "    ImproperConnectionState\n",
      "      CannotSendRequest\n",
      "      CannotSendHeader\n",
      "      ResponseNotReady\n",
      "    BadStatusLine\n",
      "      RemoteDisconnected\n",
      "    LineTooLong\n",
      "  InteractivelyDefined\n",
      "  KillEmbedded\n",
      "  Error\n",
      "    NoSuchProcess\n",
      "      ZombieProcess\n",
      "    AccessDenied\n",
      "    TimeoutExpired\n",
      "  _Ipv6UnsupportedError\n",
      "  QueueEmpty\n",
      "  QueueFull\n",
      "  DebuggerInitializationError\n",
      "  ExpatError\n",
      "  Error\n",
      "    ProtocolError\n",
      "    ResponseError\n",
      "    Fault\n",
      "  ParseBaseException\n",
      "    ParseException\n",
      "    ParseFatalException\n",
      "      ParseSyntaxException\n",
      "  RecursiveGrammarException\n",
      "  ResolutionError\n",
      "    VersionConflict\n",
      "      ContextualVersionConflict\n",
      "    DistributionNotFound\n",
      "    UnknownExtra\n",
      "  _Error\n",
      "  UnableToResolveVariableException\n",
      "  InvalidTypeInArgsException\n",
      "  TransactionLimitExceeded\n"
     ]
    }
   ],
   "source": [
    "def print_exception_hierarchy(exception, level=0):\n",
    "    \"\"\"\n",
    "    This function prints the exception hierarchy\n",
    "    \"\"\"\n",
    "    print(\"  \" * level + exception.__name__)\n",
    "    logging.info(\" \"* level + exception.__name__)\n",
    "    for subclass in exception.__subclasses__():\n",
    "        print_exception_hierarchy(subclass, level + 1)\n",
    "        logging.info(f'Subclass: {subclass},level:{level}')\n",
    "\n",
    "print_exception_hierarchy(Exception)"
   ]
  },
  {
   "cell_type": "markdown",
   "id": "784cceeb-2775-4c8d-9cc8-ff83cf055056",
   "metadata": {},
   "source": [
    "#### 3.What errors are defined in the ArithmeticError class? Explain any two with an example."
   ]
  },
  {
   "cell_type": "markdown",
   "id": "fbb1272d-3070-4780-a357-b74108383eb8",
   "metadata": {},
   "source": [
    "->The ArithmeticError class is a built-in exception in Python that represents errors that occur during arithmetic operations. Some of the errors that are defined in the ArithmeticError class include:"
   ]
  },
  {
   "cell_type": "markdown",
   "id": "0e15a321-960f-4170-a99c-4e4146cee56d",
   "metadata": {},
   "source": [
    "->OverflowError: This error is raised when a mathematical operation results in a number that is too large to be represented within the available memory.\n",
    "\n",
    "->ZeroDivisionError: This error is raised when a division operation is attempted with a denominator of zero.\n",
    "\n",
    "->FloatingPointError: This error is raised when a floating-point operation fails, such as an operation involving infinities or NaNs (Not-a-Number)."
   ]
  },
  {
   "cell_type": "code",
   "execution_count": 8,
   "id": "f0117e7f-5243-4ef2-8557-387cac62a770",
   "metadata": {},
   "outputs": [
    {
     "name": "stdout",
     "output_type": "stream",
     "text": [
      "Exception occured and handled :  division by zero\n"
     ]
    }
   ],
   "source": [
    "# Example 1 : ZeroDivisionError\n",
    "logging.info('This is start of Question 3')\n",
    "try :\n",
    "    a = 10\n",
    "    print(a/0)\n",
    "    logging.info('Try block executed')\n",
    "except ZeroDivisionError as e:\n",
    "    print('Exception occured and handled : ',e)\n",
    "    logging.exception(f'Exception occured and Handled : {e}')\n",
    "finally:\n",
    "    logging.info('Example 1 of Question 3 Completed')"
   ]
  },
  {
   "cell_type": "code",
   "execution_count": 9,
   "id": "f49f48c0-e6ec-4167-bc67-1c73d882e2c4",
   "metadata": {},
   "outputs": [
    {
     "name": "stdout",
     "output_type": "stream",
     "text": [
      "The exponential value is\n",
      "Error Occured and Handled : math range error\n"
     ]
    }
   ],
   "source": [
    "# Example 2: OverflowError - The number is too large to store in System memory \n",
    "import math\n",
    "logging.info('Example 2 Overflow error of Question 3 Started')\n",
    "try :\n",
    "    print(\"The exponential value is\")\n",
    "    print(math.exp(1000))\n",
    "    logging.info('Try Block executed')\n",
    "except OverflowError as e:\n",
    "    print(f'Error Occured and Handled : {e}')\n",
    "    logging.info(f'Error Occured and Handled : {e}')"
   ]
  },
  {
   "cell_type": "markdown",
   "id": "dc1bc96d-4c80-4748-a193-c6e13cbc1d79",
   "metadata": {},
   "source": [
    "#### 4.Why LookupError class is used? Explain with an example KeyError and IndexError."
   ]
  },
  {
   "cell_type": "markdown",
   "id": "a6989285-de50-45e7-8e77-055010cc975b",
   "metadata": {},
   "source": [
    "->The LookupError class is used in Python to represent exceptions that are raised when a key or an index is not found in a data structure such as a dictionary or a list. LookupError is a base class for two more specific exceptions: KeyError and IndexError.\n",
    "\n",
    " ->KeyError is raised when a key is not found in a dictionary\n",
    " \n",
    " ->IndexError is raised when an index is not found in a list."
   ]
  },
  {
   "cell_type": "code",
   "execution_count": 10,
   "id": "cdaad0fc-822d-4acd-8fb1-93e00946226c",
   "metadata": {},
   "outputs": [
    {
     "name": "stdout",
     "output_type": "stream",
     "text": [
      "Error Occured and Handled Key Error : 'key4'\n"
     ]
    }
   ],
   "source": [
    "# Example 1 : Key Error \n",
    "logging.info('This is start of Key Error Example')\n",
    "try :\n",
    "    d = {'key1':'value1','key2':'value2'}\n",
    "    d['key4']\n",
    "    logging.info('Try Block executed')\n",
    "except KeyError as e:\n",
    "    print(f'Error Occured and Handled Key Error : {e}')\n",
    "    logging.exception(f'Error Occured and Handled Key Error : {e}')\n",
    "finally:\n",
    "    logging.info('This is end of Key Error Example')"
   ]
  },
  {
   "cell_type": "code",
   "execution_count": 11,
   "id": "03222782-807f-441f-b955-8aad5bf2d6be",
   "metadata": {},
   "outputs": [
    {
     "name": "stdout",
     "output_type": "stream",
     "text": [
      "Index error occured and Handled : list index out of range\n"
     ]
    }
   ],
   "source": [
    "# Example 2: Index Error\n",
    "logging.info('This is start of Index error example')\n",
    "try:\n",
    "    l = [1,2,3,4,5,True,'sample']\n",
    "    l[23]\n",
    "except IndexError as e:\n",
    "    print(f'Index error occured and Handled : {e}')\n",
    "    logging.exception(f'Index error occured and Handled : {e}')\n",
    "finally:\n",
    "    logging.info('Index Error Example complete')"
   ]
  },
  {
   "cell_type": "markdown",
   "id": "4aa5910b-02ab-427f-8427-730c1aafdac2",
   "metadata": {},
   "source": [
    "#### 5.Explain ImportError. What is ModuleNotFoundError?"
   ]
  },
  {
   "cell_type": "markdown",
   "id": "da4baaef-8fe4-4b2b-88ad-bc565af4af00",
   "metadata": {},
   "source": [
    "->ImportError is a class in Python that represents exceptions raised when a module or package cannot be found or imported. An ImportError is raised when Python encounters a line of code that tries to import a module or package that does not exist or is not accessible due to a file system error, for example.\n",
    "\n",
    "->ModuleNotFoundError is a subclass of ImportError that is specifically raised when a module cannot be found in the Python path. It was added in Python 3.6 as a more descriptive error message to replace the generic ImportError message."
   ]
  },
  {
   "cell_type": "code",
   "execution_count": 12,
   "id": "ed99f14a-99b7-448e-805c-8a0cfddfb312",
   "metadata": {},
   "outputs": [
    {
     "name": "stdout",
     "output_type": "stream",
     "text": [
      "ImportError Occured and handled : No module named 'calculus'\n"
     ]
    }
   ],
   "source": [
    "# Example 1: ImportError : This is parent class for ModuleNotFoundError\n",
    "logging.info('This is start of example for ImportError')\n",
    "try :\n",
    "    import calculus\n",
    "    logging.info('Module Imported')\n",
    "except ImportError as e:\n",
    "    print(f'ImportError Occured and handled : {e}')\n",
    "    logging.exception(f'ImportError Occured and handled : {e}')\n",
    "finally:\n",
    "    logging.info('ImportError Example Complete')"
   ]
  },
  {
   "cell_type": "code",
   "execution_count": 13,
   "id": "25788c43-24e5-47fe-839c-64ce5e78cd89",
   "metadata": {},
   "outputs": [
    {
     "name": "stdout",
     "output_type": "stream",
     "text": [
      "ImportError Occured and handled : No module named 'calculus'\n"
     ]
    }
   ],
   "source": [
    "# Example 2: ModuleNotFoundError: This is child class of ImportError\n",
    "logging.info('This is start of example for ModuleNotFoundError')\n",
    "try :\n",
    "    import calculus\n",
    "    logging.info('Module Imported')\n",
    "except ModuleNotFoundError as e:\n",
    "    print(f'ImportError Occured and handled : {e}')\n",
    "    logging.exception(f'ModuleNotFoundError Occured and handled : {e}')\n",
    "finally:\n",
    "    logging.info('ModuleNotFound Example Complete')"
   ]
  },
  {
   "cell_type": "markdown",
   "id": "994d8987-727f-4d74-ac7b-4d4fc980c006",
   "metadata": {},
   "source": [
    "#### 6.List down some best practices for exception handling in python"
   ]
  },
  {
   "cell_type": "markdown",
   "id": "48594489-9dc6-443b-8004-0687b2e66128",
   "metadata": {},
   "source": [
    "->Here are some best practices for exception handling in Python:\n",
    "\n",
    "    ->Be specific in catching exceptions: Instead of catching a broad, generic exception such as Exception, it's better to catch more specific exceptions that correspond to the errors you expect to handle. This way, you can ensure that only the errors you want to handle are caught and other unexpected errors are allowed to propagate.\n",
    "\n",
    "    ->Use try-except blocks: try-except blocks are the recommended way to handle exceptions in Python. They allow you to catch exceptions and take appropriate action, without letting the program crash.\n",
    "\n",
    "    ->Provide meaningful error messages: When raising exceptions, provide meaningful error messages that can help you diagnose and fix the problem. Avoid using generic error messages like \"Something went wrong\".\n",
    "\n",
    "    ->Avoid using bare except blocks: Bare except blocks catch all exceptions and can hide important information about the cause of the error. Instead, use specific exception classes or Exception with a more descriptive error message.\n",
    "\n",
    "    ->Use finally blocks wisely: finally blocks are used to execute code that needs to run regardless of whether an exception was raised or not. Use them wisely to clean up resources or close files, for example.\n",
    "\n",
    "    ->Don't suppress exceptions: Avoid suppressing exceptions by using a bare except block or catching a broad exception class and not re-raising it. Doing so can hide important information about the cause of the error and make it harder to diagnose and fix.\n",
    "\n",
    "    ->Propagate exceptions up the call stack: If you catch an exception and cannot handle it, propagate it up the call stack by re-raising it. This way, the exception can be handled by an enclosing try-except block or reach the top-level of the program where it can be logged or displayed to the user."
   ]
  },
  {
   "cell_type": "code",
   "execution_count": 14,
   "id": "e9a3dd2f-5814-4d55-ba78-a312a17dec79",
   "metadata": {},
   "outputs": [],
   "source": [
    "def divide(a, b):\n",
    "    logging.info('This is start of divide function')\n",
    "    try:\n",
    "        result = a / b\n",
    "        logging.info('Try Block executed')\n",
    "    except ZeroDivisionError as e:\n",
    "        logging.exception(f'Zero Division Error occured and Handled : {e}')\n",
    "        raise ValueError(\"Cannot divide by zero\") from e\n",
    "    except TypeError as e:\n",
    "        logging.exception(f'Type Error Occured and Handled : {e}')\n",
    "        raise ValueError(\"Both arguments must be numbers\") from e\n",
    "    else:\n",
    "        logging.info('Else Block Executed')\n",
    "        return result\n",
    "    finally:\n",
    "        logging.info('This is end of divide function')\n"
   ]
  },
  {
   "cell_type": "code",
   "execution_count": 15,
   "id": "add29bbe-1c70-4a94-9b45-514cb468f316",
   "metadata": {},
   "outputs": [
    {
     "name": "stdout",
     "output_type": "stream",
     "text": [
      "1.6666666666666667\n"
     ]
    }
   ],
   "source": [
    "#Both are numbers\n",
    "try:\n",
    "    print(divide(10,6))    \n",
    "except (ZeroDivisionError, ValueError) as e:\n",
    "    print(f'Error occured and Handled : {e}')    \n",
    "    logging.exception(f'Error occured and Handled : {e}')"
   ]
  },
  {
   "cell_type": "code",
   "execution_count": null,
   "id": "e6ed3fb0-bb95-4949-8372-c4f3adf8a391",
   "metadata": {},
   "outputs": [],
   "source": []
  }
 ],
 "metadata": {
  "kernelspec": {
   "display_name": "Python 3 (ipykernel)",
   "language": "python",
   "name": "python3"
  },
  "language_info": {
   "codemirror_mode": {
    "name": "ipython",
    "version": 3
   },
   "file_extension": ".py",
   "mimetype": "text/x-python",
   "name": "python",
   "nbconvert_exporter": "python",
   "pygments_lexer": "ipython3",
   "version": "3.10.8"
  }
 },
 "nbformat": 4,
 "nbformat_minor": 5
}
