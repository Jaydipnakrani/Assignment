{
 "cells": [
  {
   "cell_type": "code",
   "execution_count": 22,
   "id": "f0d796a0-2add-4ede-9881-8b6bbeb3d958",
   "metadata": {},
   "outputs": [],
   "source": [
    "import logging\n",
    "logging.basicConfig(filename='Assignment3.log',level=logging.DEBUG,format= '%(asctime)s - %(name)s - %(levelname)s - %(message)s')"
   ]
  },
  {
   "cell_type": "markdown",
   "id": "9e2aa7c4-ada7-41df-8607-373c5c88274d",
   "metadata": {},
   "source": [
    "#### 1. What is Multi Threading in Python? Why it is used? Name the module used to handle threads in python."
   ]
  },
  {
   "cell_type": "markdown",
   "id": "a545e96e-b06d-461f-8b23-3461824809ea",
   "metadata": {},
   "source": [
    "->A thread is a unit of execution within a process. Multithreading refers to concurrently executing multiple threads by rapidly switching the control of the CPU between threads (called context switching).\n",
    "->Threading in python is used to run multiple threads (tasks, function calls) at the same time. Note that this does not mean that they are executed on different CPUs. Python threads will NOT make your program faster if it already uses 100 % CPU time. In that case, you probably want to look into parallel programming.\n",
    "->The module used to handle threads in python is \"threading\" module"
   ]
  },
  {
   "cell_type": "code",
   "execution_count": 23,
   "id": "94e9ca6d-98c1-4d8d-abb3-6f8681541884",
   "metadata": {},
   "outputs": [],
   "source": [
    "import urllib.request\n",
    "\n",
    "def file_download(url, filename):\n",
    "    \"\"\"\n",
    "    This function downloads files from url and saves it into given filename\n",
    "    \"\"\"\n",
    "    try: \n",
    "        logging.info('This is start of file_download function')\n",
    "        urllib.request.urlretrieve(url,filename)\n",
    "        logging.info(f'File from url {url} download successfully and saved as {filename}')\n",
    "    except ValueError as e:\n",
    "        logging.error(f'{url} Url entered is incorrect, error occured : {e}')\n",
    "        raise ValueError('Please enter proper url , File not found')\n",
    "    finally:\n",
    "        logging.info('This is end of file_download function') "
   ]
  },
  {
   "cell_type": "code",
   "execution_count": 24,
   "id": "2c1907dd-163f-44cb-8136-d92c1ef8a12d",
   "metadata": {},
   "outputs": [],
   "source": [
    "url_list=['https://raw.githubusercontent.com/itsfoss/text-files/master/agatha.txt',\n",
    "          'https://raw.githubusercontent.com/itsfoss/text-files/master/sherlock.txt',\n",
    "          'https://raw.githubusercontent.com/itsfoss/text-files/master/sample_log_file.txt']\n",
    "\n",
    "\n",
    "data_file_list = ['data1.txt','data2.txt','data3.txt']"
   ]
  },
  {
   "cell_type": "code",
   "execution_count": 25,
   "id": "e9f26108-0170-46a9-a0c6-b231904a811e",
   "metadata": {},
   "outputs": [
    {
     "data": {
      "text/plain": [
       "[<Thread(Thread-14 (file_download), initial)>,\n",
       " <Thread(Thread-15 (file_download), initial)>,\n",
       " <Thread(Thread-16 (file_download), initial)>]"
      ]
     },
     "execution_count": 25,
     "metadata": {},
     "output_type": "execute_result"
    }
   ],
   "source": [
    "import threading\n",
    "thread = [threading.Thread(target=file_download, args=(url_list[i],data_file_list[i])) for i in range(len(url_list))]\n",
    "logging.info(thread)\n",
    "thread"
   ]
  },
  {
   "cell_type": "code",
   "execution_count": 26,
   "id": "ef5c4865-fa4a-4c90-a11f-347a0fc9bb71",
   "metadata": {},
   "outputs": [
    {
     "name": "stdout",
     "output_type": "stream",
     "text": [
      "CPU times: user 0 ns, sys: 3.11 ms, total: 3.11 ms\n",
      "Wall time: 2.46 ms\n"
     ]
    }
   ],
   "source": [
    "%%time\n",
    "# Timing the MultiThreading Time\n",
    "try:\n",
    "    logging.info('This is start of Multithreading')\n",
    "    for t in thread:\n",
    "        t.start()\n",
    "    logging.info('All Data Downloaded Successfully')\n",
    "except ValueError as e:\n",
    "    logging.error(f'url not found error occured and handled {e}' )\n",
    "    print('Url not found exception occured and handled :',e)\n",
    "except RuntimeError as e:\n",
    "    logging.error(f'RuntimeError occured : {e}')\n",
    "    print('Threads can only be started once, Error occured :',e)\n",
    "finally:\n",
    "    logging.info('This is end of Multithreading')"
   ]
  },
  {
   "cell_type": "markdown",
   "id": "b6a47022-6bf6-4e51-a007-ce4fc1910ff5",
   "metadata": {},
   "source": [
    "#### 2. Why Threading Module is used ? Write the use of following functions\n",
    "1.activeCount()\n",
    "2.currentThread()\n",
    "3.enumerate()"
   ]
  },
  {
   "cell_type": "markdown",
   "id": "80f2f4d2-10a0-4299-b691-3c0b3b20761c",
   "metadata": {},
   "source": [
    "->Python \"threading\" module allows you to have different parts of your program run concurrently and can simplify your design."
   ]
  },
  {
   "cell_type": "markdown",
   "id": "92dff873-8a3c-418a-9bcf-500ce44cdf04",
   "metadata": {},
   "source": [
    "Use of below functions :\n",
    "\n",
    "->1. active_count() - Returns the number of thread objects that are active.(activeCount is deprecated latest function is active_count)"
   ]
  },
  {
   "cell_type": "code",
   "execution_count": 27,
   "id": "f1232650-9eaf-4715-bb75-35a8330c2c5b",
   "metadata": {},
   "outputs": [
    {
     "name": "stdout",
     "output_type": "stream",
     "text": [
      "Currently active threads are : 8\n"
     ]
    }
   ],
   "source": [
    "print(f\"Currently active threads are : {threading.active_count()}\")\n",
    "logging.info(f\"Currently active threads are : {threading.active_count()}\")"
   ]
  },
  {
   "cell_type": "markdown",
   "id": "d60c2479-aa6e-4334-a038-72f5a47e6d62",
   "metadata": {},
   "source": [
    "->2. current_thread() - it returns the current Thread object active at the moment.(currentThread is deprecated latest function is current_thread)"
   ]
  },
  {
   "cell_type": "code",
   "execution_count": 28,
   "id": "6bfec7aa-875d-4984-906b-b4e3d56f468e",
   "metadata": {},
   "outputs": [
    {
     "name": "stdout",
     "output_type": "stream",
     "text": [
      "Current thread is : <_MainThread(MainThread, started 140070796437312)>\n"
     ]
    }
   ],
   "source": [
    "print(f\"Current thread is : {threading.current_thread()}\")\n",
    "logging.info(f\"Current thread is : {threading.current_thread()}\")"
   ]
  },
  {
   "cell_type": "markdown",
   "id": "682f6f14-197e-4846-9401-964e38aad421",
   "metadata": {},
   "source": [
    "->3. enumerate() - Returns a list of all thread objects that are currently active."
   ]
  },
  {
   "cell_type": "code",
   "execution_count": 29,
   "id": "928eaaba-e9db-4ca4-8d7e-9992746399db",
   "metadata": {},
   "outputs": [
    {
     "name": "stdout",
     "output_type": "stream",
     "text": [
      "List of all active threads is : [<_MainThread(MainThread, started 140070796437312)>, <Thread(IOPub, started daemon 140070725908032)>, <Heartbeat(Heartbeat, started daemon 140070717515328)>, <Thread(Thread-3 (_watch_pipe_fd), started daemon 140070484960832)>, <Thread(Thread-4 (_watch_pipe_fd), started daemon 140070476568128)>, <ControlThread(Control, started daemon 140070468175424)>, <HistorySavingThread(IPythonHistorySavingThread, started 140070459782720)>, <ParentPollerUnix(Thread-2, started daemon 140070451390016)>]\n"
     ]
    }
   ],
   "source": [
    "print(f'List of all active threads is : {threading.enumerate()}')\n",
    "logging.info(f'List of all active threads is : {threading.enumerate()}')"
   ]
  },
  {
   "cell_type": "markdown",
   "id": "15de0843-7550-4cdb-81c8-28a2cb59a177",
   "metadata": {},
   "source": [
    "#### 3. Explain the following functions:\n",
    "1.run()\n",
    "2.start()\n",
    "3.join()\n",
    "4.isAlive()\n"
   ]
  },
  {
   "cell_type": "markdown",
   "id": "36bd3687-86d6-4e5c-8cbd-cbf0e8198e87",
   "metadata": {},
   "source": [
    "1. run() - The standard run() method invokes the callable object passed to the object’s constructor as the target argument, if any, with positional and keyword arguments taken from the args and kwargs arguments, respectively."
   ]
  },
  {
   "cell_type": "code",
   "execution_count": 30,
   "id": "0a667bea-e93d-44b3-90a5-a8b7c5f6fafc",
   "metadata": {},
   "outputs": [
    {
     "name": "stdout",
     "output_type": "stream",
     "text": [
      "Hello World 2\n"
     ]
    }
   ],
   "source": [
    "t = threading.Thread(target=print,args=['Hello World','2'])\n",
    "t.run()\n",
    "logging.info('run() Command executed')"
   ]
  },
  {
   "cell_type": "markdown",
   "id": "170c737d-5fe2-404a-a67c-6c6a7c3ce344",
   "metadata": {},
   "source": [
    "2. start() - Start the thread’s activity. It must be called at most once per thread object. It arranges for the object’s run() method to be invoked in a separate thread of control.This method will raise a RuntimeError if called more than once on the same thread object.\n",
    "\n",
    "3. join() - Wait until the thread terminates. This blocks the calling thread until the thread whose join() method is called terminates – either normally or through an unhandled exception – or until the optional timeout occurs."
   ]
  },
  {
   "cell_type": "code",
   "execution_count": 31,
   "id": "4c2d6bcd-25bb-4df9-b9e5-e2fec438eff9",
   "metadata": {},
   "outputs": [
    {
     "name": "stdout",
     "output_type": "stream",
     "text": [
      "Counter Value : 0\n",
      "Counter Value : 1\n",
      "Counter Value : 2\n",
      "Counter Value : 3\n",
      "Counter Value : 4\n",
      "Counter Value : 5\n",
      "Counter Value : 6\n",
      "Counter Value : 7\n",
      "Counter Value : 8\n",
      "Counter Value : 9\n",
      "Counter Value : 10\n",
      "Thread Finished\n"
     ]
    }
   ],
   "source": [
    "from time import sleep\n",
    "def counter_function(arg):\n",
    "    for i in range(arg):\n",
    "        print(f\"Counter Value : {i}\")\n",
    "        logging.info(f\"Counter Value : {i}\")\n",
    "    # Wait for 1 second\n",
    "    sleep(1)\n",
    "\n",
    "thread2 = threading.Thread(target=counter_function,args=(11,))\n",
    "thread2.start() # Starts executing the threads seperately\n",
    "thread2.join() # Join will wait until the thread is terminated\n",
    "print('Thread Finished')\n",
    "logging.info('Thread Finished')"
   ]
  },
  {
   "cell_type": "markdown",
   "id": "b40dc4b1-3851-43a5-94a1-9b928b7155b1",
   "metadata": {},
   "source": [
    "4. is_alive() - (isAlive is deprecated latest function - is_alive) Return whether the thread is alive. This method returns True just before the run() method starts until just after the run() method terminates."
   ]
  },
  {
   "cell_type": "code",
   "execution_count": 32,
   "id": "38a94573-98a4-4df6-86cc-8d16cbdc7bca",
   "metadata": {},
   "outputs": [
    {
     "name": "stdout",
     "output_type": "stream",
     "text": [
      "Check for thread2 is alive :  False\n"
     ]
    }
   ],
   "source": [
    "print('Check for thread2 is alive : ',thread2.is_alive())\n",
    "logging.info(f'thread 2 is alive : {thread2.is_alive()}')"
   ]
  },
  {
   "cell_type": "markdown",
   "id": "6d270fcc-329a-4421-8399-2f485fac6ed7",
   "metadata": {},
   "source": [
    "#### 4.Write a python program that creates two threads. Thread 1 must print list of squares and Thread 2 must print list of cubes."
   ]
  },
  {
   "cell_type": "code",
   "execution_count": 33,
   "id": "5ddfbbf0-76da-4b81-9228-535e5b6e4aa7",
   "metadata": {},
   "outputs": [],
   "source": [
    "def list_squares(start,end):\n",
    "    \"\"\"\n",
    "    This function prints list of squares\n",
    "    for given start and end numbers\n",
    "    \"\"\"\n",
    "    for i in range(start, end+1):\n",
    "        print(f'Square of {i} is : {i*i}')\n",
    "        logging.info(f'Square of {i} is : {i*i}')"
   ]
  },
  {
   "cell_type": "code",
   "execution_count": 34,
   "id": "fd050607-cca5-48f8-a9aa-24d722e2c832",
   "metadata": {},
   "outputs": [],
   "source": [
    "def list_cubes(start,end):\n",
    "    \"\"\"\n",
    "    This function prints list of cubes\n",
    "    for given start and end numbers\n",
    "    \"\"\"\n",
    "    for i in range(start, end+1):\n",
    "        print(f'Cube of {i} is : {i*i}')\n",
    "        logging.info(f'Cube of {i} is : {i**3}')"
   ]
  },
  {
   "cell_type": "code",
   "execution_count": 35,
   "id": "2cd229d4-d219-4ac1-820d-b21eb079a929",
   "metadata": {},
   "outputs": [
    {
     "name": "stdout",
     "output_type": "stream",
     "text": [
      "Square of 1 is : 1\n",
      "Square of 2 is : 4\n",
      "Square of 3 is : 9\n",
      "Square of 4 is : 16\n",
      "Square of 5 is : 25\n",
      "Square of 6 is : 36\n",
      "Square of 7 is : 49\n",
      "Square of 8 is : 64\n",
      "Square of 9 is : 81\n",
      "Square of 10 is : 100\n",
      "Cube of 7 is : 49\n",
      "Cube of 8 is : 64\n",
      "Cube of 9 is : 81\n",
      "Cube of 10 is : 100\n",
      "Cube of 11 is : 121\n",
      "Cube of 12 is : 144\n",
      "Cube of 13 is : 169\n",
      "Cube of 14 is : 196\n",
      "Cube of 15 is : 225\n",
      "Cube of 16 is : 256\n"
     ]
    }
   ],
   "source": [
    "t1 = threading.Thread(target=list_squares, args=(1, 10))\n",
    "t2 = threading.Thread(target=list_cubes, args=(7, 16))\n",
    "\n",
    "# start the threads\n",
    "t1.start()\n",
    "t2.start()\n",
    "\n",
    "# wait for the threads to finish\n",
    "t1.join()\n",
    "t2.join()"
   ]
  },
  {
   "cell_type": "markdown",
   "id": "d98230f3-cbab-402d-805e-f86cccdd0485",
   "metadata": {},
   "source": [
    "#### 5.State advantages and disadvantages of Multithreading."
   ]
  },
  {
   "cell_type": "markdown",
   "id": "ec5c81f3-6e4f-4d66-b534-819788d8dfdd",
   "metadata": {},
   "source": [
    "## Advantages of multithreading:"
   ]
  },
  {
   "cell_type": "markdown",
   "id": "9233f2c8-bd9e-4859-a57e-d2c8c2a4c1b2",
   "metadata": {},
   "source": [
    "\n",
    "\n",
    "->Improved performance: Multithreading can improve the performance of a program by allowing different parts of the program to run simultaneously. This can make the program more efficient and reduce the overall execution time.\n",
    "\n",
    "->Better resource utilization: Multithreading can make better use of available resources such as CPU and memory by distributing the workload across multiple threads.\n",
    "\n",
    "->Enhanced user experience: Multithreading can improve the user experience by making the program more responsive and interactive.\n",
    "\n",
    "->Simplified coding: Multithreading can simplify coding by allowing the programmer to break down complex tasks into smaller, more manageable threads.\n",
    "\n",
    "->Scalability: Multithreading allows the program to scale well as the number of threads can be increased based on the available resources."
   ]
  },
  {
   "cell_type": "markdown",
   "id": "5d24f607-b602-443a-b418-6bf4b4114fbc",
   "metadata": {},
   "source": [
    "## Disadvantage of Multithreading"
   ]
  },
  {
   "cell_type": "markdown",
   "id": "f847d259-62aa-47ec-8225-4b38c0e99231",
   "metadata": {},
   "source": [
    "\n",
    "->Increased complexity: Multithreading can make the program more complex and harder to debug. It can be challenging to ensure that multiple threads access shared resources in a thread-safe manner, which can lead to synchronization issues.\n",
    "\n",
    "->Overhead: Multithreading adds overhead to the program as there is additional management overhead for creating, synchronizing, and managing threads.\n",
    "\n",
    "->Race conditions: Multithreading can lead to race conditions, where multiple threads try to access the same shared resource simultaneously, resulting in unpredictable and incorrect behavior.\n",
    "\n",
    "->Resource contention: Multithreading can result in resource contention when multiple threads try to access the same resource, such as memory or I/O devices, which can lead to performance degradation.\n",
    "\n",
    "->Deadlocks: Multithreading can lead to deadlocks, where two or more threads are blocked waiting for each other to release resources, resulting in a program that hangs or crashes."
   ]
  },
  {
   "cell_type": "markdown",
   "id": "3eaa9333-6cba-4266-8961-fdb52fce34ee",
   "metadata": {},
   "source": [
    "#### 6.Explain deadlocks and race conditions."
   ]
  },
  {
   "cell_type": "markdown",
   "id": "35125110-c08d-4154-8077-0846e8e84f29",
   "metadata": {},
   "source": [
    "->Deadlocks : A deadlock is a situation where two or more threads are blocked, waiting for each other to release a resource. In other words, each thread is holding a resource that the other thread needs to proceed, but neither thread can release its resource until it acquires the resource it is waiting for. This results in a situation where both threads are stuck, waiting indefinitely for the other thread to release the resource. Deadlocks can cause a program to hang or crash and are notoriously difficult to debug."
   ]
  },
  {
   "cell_type": "markdown",
   "id": "27a22572-4b24-44d0-b720-20376b6be7d4",
   "metadata": {},
   "source": [
    "->Race Condition : A race condition occurs when two or more threads access a shared resource simultaneously, and the final outcome depends on the order in which the threads are executed. In other words, the execution of the program depends on the timing of the threads, and if the order of execution is not controlled, it can result in unpredictable behavior. For example, if two threads try to update the same variable simultaneously, the final value of the variable will depend on which thread executed first. This can result in incorrect program behavior, such as data corruption or inconsistency."
   ]
  },
  {
   "cell_type": "code",
   "execution_count": null,
   "id": "d039b62f-d443-4037-8744-78f9778124fe",
   "metadata": {},
   "outputs": [],
   "source": []
  },
  {
   "cell_type": "code",
   "execution_count": null,
   "id": "64829a88-7087-4338-bbb4-f71510e4d89f",
   "metadata": {},
   "outputs": [],
   "source": []
  }
 ],
 "metadata": {
  "kernelspec": {
   "display_name": "Python 3 (ipykernel)",
   "language": "python",
   "name": "python3"
  },
  "language_info": {
   "codemirror_mode": {
    "name": "ipython",
    "version": 3
   },
   "file_extension": ".py",
   "mimetype": "text/x-python",
   "name": "python",
   "nbconvert_exporter": "python",
   "pygments_lexer": "ipython3",
   "version": "3.10.8"
  }
 },
 "nbformat": 4,
 "nbformat_minor": 5
}
