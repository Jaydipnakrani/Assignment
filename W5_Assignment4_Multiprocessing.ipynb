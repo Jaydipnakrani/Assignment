{
 "cells": [
  {
   "cell_type": "markdown",
   "id": "aa6520fc-311b-4269-b9f5-4eb7d44ffd7d",
   "metadata": {},
   "source": [
    "#### 1.What is multiprocessing in python? Why is it useful?"
   ]
  },
  {
   "cell_type": "markdown",
   "id": "b5098296-6d10-481c-b99d-0b70f8485084",
   "metadata": {},
   "source": [
    "->Multiprocessing in Python refers to the ability to execute multiple processes or tasks simultaneously on multiple processors or cores of a computer, as opposed to executing them in a sequential manner.\n",
    "\n",
    "->In simpler terms, multiprocessing allows you to take advantage of the multi-core processors in modern computers to perform CPU-intensive tasks more efficiently, by splitting them into smaller sub-tasks that can be executed simultaneously on different processors. This can significantly reduce the time taken to complete the tasks and improve the overall performance of the program.\n",
    "\n",
    "->In Python, the multiprocessing module provides a way to create and manage multiple processes. It offers several classes and functions to create and control processes, to communicate and share data between them, and to handle exceptions and errors that may occur during their execution.\n",
    "\n",
    "\n",
    "->Multiprocessing is useful in various scenarios, such as:\n",
    "\n",
    "->CPU-intensive tasks: Multiprocessing can speed up the execution of tasks that require a lot of CPU time, such as image processing, machine learning, and scientific computing.\n",
    "\n",
    "->Parallel programming: Multiprocessing can be used to implement parallel algorithms, where multiple processes work together to solve a problem.\n",
    "\n",
    "->Scalability: Multiprocessing can help to scale up the performance of a program as the size of the data or the complexity of the problem increases.\n",
    "\n",
    "->Fault-tolerance: Multiprocessing can improve the reliability of a program by isolating the processes from each other and preventing errors in one process from affecting the others."
   ]
  },
  {
   "cell_type": "markdown",
   "id": "009538fa-3309-451c-8aa7-1968d3cbeca8",
   "metadata": {},
   "source": [
    "#### 2.What are the differences between multiprocessing and multithreading?"
   ]
  },
  {
   "cell_type": "markdown",
   "id": "685ffd13-acfc-4e00-9d97-75daa8b08fb4",
   "metadata": {},
   "source": [
    "->Multiprocessing\t"
   ]
  },
  {
   "cell_type": "raw",
   "id": "ae7b29b1-c9f2-4ed9-90fe-38261344615b",
   "metadata": {},
   "source": [
    "Execution model:Multiple processes Seperate processor core used for each process\n",
    "Parallelism:True parallelism\t\n",
    "Resource usage:\tHigher resource usage, slower startup times\t\n",
    "Communication:\tIPC mechanisms (pipes, queues, shared memory)\t\n",
    "Debugging:\tMore complex (multiple memory spaces)\t\n",
    "Best for:\tCPU-bound tasks"
   ]
  },
  {
   "cell_type": "markdown",
   "id": "2ed8a6cf-a007-46bb-a287-02b2f035458a",
   "metadata": {},
   "source": [
    "->Multithreading"
   ]
  },
  {
   "cell_type": "raw",
   "id": "a99c8561-ae9f-4e8e-bae5-937a20170761",
   "metadata": {},
   "source": [
    "Execution model:Multiple threads within a single process\n",
    "Parallelism:Concurrency due to GIL\t\n",
    "Resource usage:Lower resource usage, faster startup times\n",
    "Communication:Shared memory, synchronization primitives\n",
    "Debugging:Easier (shared memory, single memory space)\n",
    "Best for:I/O-bound tasks"
   ]
  },
  {
   "cell_type": "markdown",
   "id": "93fb7b7d-6835-4171-a859-5d7cda578934",
   "metadata": {},
   "source": [
    "#### 3.Write a python code to create a process using the multiprocessing module."
   ]
  },
  {
   "cell_type": "code",
   "execution_count": 6,
   "id": "b901d03c-26ca-42ce-a301-090a33130062",
   "metadata": {},
   "outputs": [
    {
     "name": "stdout",
     "output_type": "stream",
     "text": [
      "[8, 27, 64, 125, 216, 343, 512, 729, 1000, 1331, 1728, 2197, 2744, 3375, 4096]\n"
     ]
    }
   ],
   "source": [
    "import multiprocessing\n",
    "\n",
    "def cube(index, value):\n",
    "    \"\"\"\n",
    "    This function returns a cube of given index inside a list\n",
    "    \"\"\"\n",
    "    value[index] = value[index]**3\n",
    "\n",
    "if __name__ == '__main__':\n",
    "    # Creating an example array list to get cubes\n",
    "    arr = multiprocessing.Array('i',[2,3,4,5,6,7,8,9,10,11,12,13,14,15,16])\n",
    "    \n",
    "    # Creating processes list for appeding the processes\n",
    "    process = []\n",
    "    for i in range(15):\n",
    "        m = multiprocessing.Process(target=cube,args=(i,arr))\n",
    "        process.append(m)\n",
    "        m.start()\n",
    "        \n",
    "    # Wait for processes to finish\n",
    "    for p in process:\n",
    "        p.join()\n",
    "    print(list(arr))"
   ]
  },
  {
   "cell_type": "markdown",
   "id": "f26287e6-458f-4292-86ca-e99480c1f076",
   "metadata": {},
   "source": [
    "#### 4.What is a multiprocessing pool in python? Why is it used?"
   ]
  },
  {
   "cell_type": "markdown",
   "id": "312335ab-491e-4210-9bfd-9104aa403ad9",
   "metadata": {},
   "source": [
    "->In Python, a multiprocessing pool is a class in the multiprocessing module that provides a way to distribute tasks across multiple CPU cores. The idea is to create a pool of worker processes that can execute tasks in parallel, thereby reducing the time it takes to complete a large number of tasks.\n",
    "\n",
    "Here's how it works:\n",
    "\n",
    "1.You create a Pool object with a specified number of worker processes.\n",
    "2.You submit tasks to the pool using the apply(), apply_async(), map(), or map_async() methods.\n",
    "3.The pool distributes the tasks among the worker processes and runs them in parallel.\n",
    "4.The results of each task are collected and returned to the main process.\n",
    "\n",
    "->The advantage of using a multiprocessing pool is that it allows you to take advantage of multiple CPU cores to perform computations in parallel. This can lead to significant speedups for CPU-bound tasks, such as numerical computations, image processing, or machine learning.\n",
    "\n",
    "->The Pool class in Python also provides various methods for controlling the number of worker processes, waiting for tasks to complete, and handling errors. Overall, it's a powerful tool for scaling up your Python programs to take advantage of modern hardware."
   ]
  },
  {
   "cell_type": "markdown",
   "id": "f7a5a650-51a0-46bf-9739-4f0221464bd1",
   "metadata": {},
   "source": [
    "#### 5.How can we create a pool of worker processes in python using multiprocessing module?"
   ]
  },
  {
   "cell_type": "code",
   "execution_count": 7,
   "id": "70722944-1ba3-4b8a-b27a-fa1a3d13c31a",
   "metadata": {},
   "outputs": [
    {
     "name": "stdout",
     "output_type": "stream",
     "text": [
      "[1, 4, 9, 16, 25, 36, 49, 64, 81]\n"
     ]
    }
   ],
   "source": [
    "import multiprocessing\n",
    "def square(n):\n",
    "    return n**2\n",
    "\n",
    "if __name__ ==  '__main__':\n",
    "    with multiprocessing.Pool(processes=4) as pool:  \n",
    "        out =  pool.map(square,[1,2,3,4,5,6,7,8,9])  \n",
    "        print(out)"
   ]
  },
  {
   "cell_type": "markdown",
   "id": "a7f2e908-232f-40a8-b676-64c1c81ae7ff",
   "metadata": {},
   "source": [
    "#### 6.Write a python program to create 4 processes, each process should print a different number using the multiprocessing module in python."
   ]
  },
  {
   "cell_type": "code",
   "execution_count": 2,
   "id": "7bfa99e4-ee08-497b-866b-da52fe90258d",
   "metadata": {},
   "outputs": [
    {
     "name": "stdout",
     "output_type": "stream",
     "text": [
      "Process number 0, random number generated : 3\n",
      "Process number 1, random number generated : 76\n",
      "Process number 2, random number generated : 47\n",
      "Process number 3, random number generated : 20\n"
     ]
    }
   ],
   "source": [
    "import multiprocessing\n",
    "import random\n",
    "\n",
    "def generate_random_number(num):\n",
    "    random_number = random.randint(1, 100)\n",
    "    print(f\"Process number {num}, random number generated : {random_number}\")\n",
    "\n",
    "if __name__ == '__main__':\n",
    "    \n",
    "    processes = []\n",
    "    for i in range(4):\n",
    "        p = multiprocessing.Process(target=generate_random_number, args=(i,))\n",
    "        processes.append(p)\n",
    "        p.start()\n",
    "    \n",
    "    for p in processes:\n",
    "        p.join()"
   ]
  },
  {
   "cell_type": "code",
   "execution_count": null,
   "id": "53313090-145f-4d54-ad0a-fef3b94f489a",
   "metadata": {},
   "outputs": [],
   "source": []
  }
 ],
 "metadata": {
  "kernelspec": {
   "display_name": "Python 3 (ipykernel)",
   "language": "python",
   "name": "python3"
  },
  "language_info": {
   "codemirror_mode": {
    "name": "ipython",
    "version": 3
   },
   "file_extension": ".py",
   "mimetype": "text/x-python",
   "name": "python",
   "nbconvert_exporter": "python",
   "pygments_lexer": "ipython3",
   "version": "3.10.8"
  }
 },
 "nbformat": 4,
 "nbformat_minor": 5
}
